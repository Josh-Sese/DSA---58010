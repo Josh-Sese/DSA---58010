{
  "nbformat": 4,
  "nbformat_minor": 0,
  "metadata": {
    "colab": {
      "provenance": [],
      "authorship_tag": "ABX9TyPJW9rvytFpP39O4lzVsXQ9",
      "include_colab_link": true
    },
    "kernelspec": {
      "name": "python3",
      "display_name": "Python 3"
    },
    "language_info": {
      "name": "python"
    }
  },
  "cells": [
    {
      "cell_type": "markdown",
      "metadata": {
        "id": "view-in-github",
        "colab_type": "text"
      },
      "source": [
        "<a href=\"https://colab.research.google.com/github/Josh-Sese/DSA-58010/blob/main/Prelim_Exam.ipynb\" target=\"_parent\"><img src=\"https://colab.research.google.com/assets/colab-badge.svg\" alt=\"Open In Colab\"/></a>"
      ]
    },
    {
      "cell_type": "code",
      "execution_count": 11,
      "metadata": {
        "colab": {
          "base_uri": "https://localhost:8080/"
        },
        "id": "YpSwjqMKmoqR",
        "outputId": "f891c375-f633-4805-e37b-8a3687a8db34"
      },
      "outputs": [
        {
          "output_type": "stream",
          "name": "stdout",
          "text": [
            "Integers: [1, 2, 3, 4, 5, 6, 7, 8, 9, 10]\n",
            "The even numbers in array are: 2,4,6,8,10\n",
            "The count of even number Array is: 5\n"
          ]
        }
      ],
      "source": [
        "A = [1,2,3,4,5,6,7,8,9,10]\n",
        "print(\"Integers:\", A)\n",
        "\n",
        "int = \"2,4,6,8,10\"\n",
        "print(\"The even numbers in array are:\", int)\n",
        "\n",
        "def even(int):\n",
        "  even = set(\"24680\")\n",
        "  count = 0\n",
        "\n",
        "  for number in int:\n",
        "    if number in even:\n",
        "      count = count + 1\n",
        "\n",
        "  print(\"The count of even number Array is:\", count)\n",
        "\n",
        "even(int)\n",
        "\n",
        "\n",
        "\n",
        "\n"
      ]
    }
  ]
}