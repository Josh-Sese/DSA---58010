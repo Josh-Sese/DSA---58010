{
  "nbformat": 4,
  "nbformat_minor": 0,
  "metadata": {
    "colab": {
      "name": "Area of Circle.ipynb",
      "provenance": [],
      "authorship_tag": "ABX9TyNWbsNNn5EC09g6JTMbNSjy",
      "include_colab_link": true
    },
    "kernelspec": {
      "name": "python3",
      "display_name": "Python 3"
    },
    "language_info": {
      "name": "python"
    }
  },
  "cells": [
    {
      "cell_type": "markdown",
      "metadata": {
        "id": "view-in-github",
        "colab_type": "text"
      },
      "source": [
        "<a href=\"https://colab.research.google.com/github/Josh-Sese/DSA-58010/blob/main/Area_of_Circle.ipynb\" target=\"_parent\"><img src=\"https://colab.research.google.com/assets/colab-badge.svg\" alt=\"Open In Colab\"/></a>"
      ]
    },
    {
      "cell_type": "markdown",
      "source": [
        "**Finding the Area of Circle using diameter**"
      ],
      "metadata": {
        "id": "aBboh50ai_yE"
      }
    },
    {
      "cell_type": "code",
      "source": [
        "class Circle():\n",
        "  def __init__(self,diameter,pi):\n",
        "    self.diameter = int (input(\"Enter the diameter of a circle: \"))\n",
        "    self.pi = pi\n",
        "\n",
        "    def Area(self):\n",
        "      return ((3.14*(self.diameter*self.diameter))/4)\n",
        "\n",
        "      def display(self):\n",
        "        print(\"The area of a circle is: \", self.area())\n",
        "\n",
        "        circle = Circle(input,3.14)\n",
        "        circle.display()"
      ],
      "metadata": {
        "id": "J3Fm3_wljM35"
      },
      "execution_count": 2,
      "outputs": []
    },
    {
      "cell_type": "markdown",
      "source": [
        "**Finding the Area of Circle using Radius**"
      ],
      "metadata": {
        "id": "iXT9U3qEk17h"
      }
    },
    {
      "cell_type": "code",
      "source": [
        "class Circle():\n",
        "  def init (self,radius, pi) :\n",
        "    self.radius = int (input (\"Enter the radius of a circle: \"))\n",
        "    self.pi = pi\n",
        "\n",
        "    def Area(self):\n",
        "      return 3.14* (self.radius*self.radius)\n",
        "\n",
        "      def display(self):\n",
        "        print (\"The area of a circle is:\", self.Area())\n",
        "\n",
        "        circle = Circle (input, 3.14)\n",
        "        circle.display()"
      ],
      "metadata": {
        "id": "Rl-BOJGQlA4M"
      },
      "execution_count": 3,
      "outputs": []
    }
  ]
}