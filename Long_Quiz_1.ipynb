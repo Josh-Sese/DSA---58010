{
  "nbformat": 4,
  "nbformat_minor": 0,
  "metadata": {
    "colab": {
      "provenance": [],
      "authorship_tag": "ABX9TyPfQy44Qun+mApvibdNlbyz",
      "include_colab_link": true
    },
    "kernelspec": {
      "name": "python3",
      "display_name": "Python 3"
    },
    "language_info": {
      "name": "python"
    }
  },
  "cells": [
    {
      "cell_type": "markdown",
      "metadata": {
        "id": "view-in-github",
        "colab_type": "text"
      },
      "source": [
        "<a href=\"https://colab.research.google.com/github/Josh-Sese/DSA-58010/blob/main/Long_Quiz_1.ipynb\" target=\"_parent\"><img src=\"https://colab.research.google.com/assets/colab-badge.svg\" alt=\"Open In Colab\"/></a>"
      ]
    },
    {
      "cell_type": "markdown",
      "source": [
        "# **Array**"
      ],
      "metadata": {
        "id": "_MWwBgXcdzrV"
      }
    },
    {
      "cell_type": "code",
      "source": [
        "aar = \"Josh\",\"Gabriel\", \"Sese\"\n",
        "print (\"Full name:\", aar)\n",
        "\n",
        "res = aar [::-1]\n",
        "print (\"Reverse full name:\", res)"
      ],
      "metadata": {
        "colab": {
          "base_uri": "https://localhost:8080/"
        },
        "id": "3yB1f8f0d6Ak",
        "outputId": "b8f18423-350e-42cd-e9c3-2a30077900fa"
      },
      "execution_count": 34,
      "outputs": [
        {
          "output_type": "stream",
          "name": "stdout",
          "text": [
            "Full name: ('Josh', 'Gabriel', 'Sese')\n",
            "Reverse full name: ('Sese', 'Gabriel', 'Josh')\n"
          ]
        }
      ]
    }
  ]
}