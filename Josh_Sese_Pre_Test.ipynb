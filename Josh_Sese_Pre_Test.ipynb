{
  "nbformat": 4,
  "nbformat_minor": 0,
  "metadata": {
    "colab": {
      "name": "Josh-Sese/Pre-Test.ipynb",
      "provenance": [],
      "authorship_tag": "ABX9TyNGLxePD5u7j69RCwI5sL4e",
      "include_colab_link": true
    },
    "kernelspec": {
      "name": "python3",
      "display_name": "Python 3"
    },
    "language_info": {
      "name": "python"
    }
  },
  "cells": [
    {
      "cell_type": "markdown",
      "metadata": {
        "id": "view-in-github",
        "colab_type": "text"
      },
      "source": [
        "<a href=\"https://colab.research.google.com/github/Josh-Sese/DSA-58010/blob/main/Josh_Sese_Pre_Test.ipynb\" target=\"_parent\"><img src=\"https://colab.research.google.com/assets/colab-badge.svg\" alt=\"Open In Colab\"/></a>"
      ]
    },
    {
      "cell_type": "code",
      "source": [
        "class Shape:\n",
        "  def Area(self):\n",
        "    pass\n",
        "    def Perimeter(self):\n",
        "      pass\n",
        "      class rectangle:\n",
        "        def __init__(self,side1,side2):\n",
        "          self.side1 = side1\n",
        "          self.side2 = side2\n",
        "          def Area(self):\n",
        "            print(self.side1*self.side2)\n",
        "            def Perimeter(self):\n",
        "              print(2*(self.side1+self.side2))\n",
        "\n",
        "              class Square(Shape):\n",
        "                def __init__(self,side):\n",
        "                  self.side = side\n",
        "                  def Area(self):\n",
        "                   print(self.side**2)\n",
        "                   def Perimeter(self):\n",
        "                    print(self.side*4 ) \n",
        "                    square.Area()\n",
        "\n",
        "                    rect=Rectangle(7,3)\n",
        "                    rect.area()\n",
        "\n",
        "                    square.Perimeter()\n",
        "                    rect.Perimeter()\n",
        "\n",
        "\n"
      ],
      "metadata": {
        "id": "8P4iJ4dHSErI"
      },
      "execution_count": 2,
      "outputs": []
    }
  ]
}