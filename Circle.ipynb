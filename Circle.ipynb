{
  "nbformat": 4,
  "nbformat_minor": 0,
  "metadata": {
    "colab": {
      "name": "Circle.ipynb",
      "provenance": [],
      "authorship_tag": "ABX9TyNpusMSyq9AXGuGex1lMdH5",
      "include_colab_link": true
    },
    "kernelspec": {
      "name": "python3",
      "display_name": "Python 3"
    },
    "language_info": {
      "name": "python"
    }
  },
  "cells": [
    {
      "cell_type": "markdown",
      "metadata": {
        "id": "view-in-github",
        "colab_type": "text"
      },
      "source": [
        "<a href=\"https://colab.research.google.com/github/Josh-Sese/DSA-58010/blob/main/Circle.ipynb\" target=\"_parent\"><img src=\"https://colab.research.google.com/assets/colab-badge.svg\" alt=\"Open In Colab\"/></a>"
      ]
    },
    {
      "cell_type": "code",
      "source": [
        "PI = 3.14\n",
        "radius = float (input(' Please Enter the radius of a circle: '))\n",
        "diameter = 2 * radius\n",
        "diameter = 2 * radius\n",
        "print (\"Diameter Of a Circle = %.2f\" %diameter)"
      ],
      "metadata": {
        "colab": {
          "base_uri": "https://localhost:8080/"
        },
        "id": "mQ01qupbrvKA",
        "outputId": "da2c1958-f8cc-4d52-a315-251fd322e1d5"
      },
      "execution_count": 16,
      "outputs": [
        {
          "output_type": "stream",
          "name": "stdout",
          "text": [
            " Please Enter the radius of a circle: 88\n",
            "Diameter Of a Circle = 176.00\n"
          ]
        }
      ]
    }
  ]
}