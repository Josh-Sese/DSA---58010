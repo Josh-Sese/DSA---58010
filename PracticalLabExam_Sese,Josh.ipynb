{
  "nbformat": 4,
  "nbformat_minor": 0,
  "metadata": {
    "colab": {
      "name": "PracticalLabExam-Sese,Josh.ipynb",
      "provenance": [],
      "authorship_tag": "ABX9TyOBPWyd39MNKPb/QpNVDUZA",
      "include_colab_link": true
    },
    "kernelspec": {
      "name": "python3",
      "display_name": "Python 3"
    },
    "language_info": {
      "name": "python"
    }
  },
  "cells": [
    {
      "cell_type": "markdown",
      "metadata": {
        "id": "view-in-github",
        "colab_type": "text"
      },
      "source": [
        "<a href=\"https://colab.research.google.com/github/Josh-Sese/DSA-58010/blob/main/PracticalLabExam_Sese%2CJosh.ipynb\" target=\"_parent\"><img src=\"https://colab.research.google.com/assets/colab-badge.svg\" alt=\"Open In Colab\"/></a>"
      ]
    },
    {
      "cell_type": "code",
      "execution_count": 7,
      "metadata": {
        "colab": {
          "base_uri": "https://localhost:8080/"
        },
        "id": "-CMCW2D3DE-H",
        "outputId": "6ce9ab0a-fd9f-4d0f-c82b-c059d4d21812"
      },
      "outputs": [
        {
          "output_type": "stream",
          "name": "stdout",
          "text": [
            "The Even numbers are:  [26, 98, 62]\n",
            "The sum of all Even numbers is:  186\n"
          ]
        }
      ],
      "source": [
        "list1 = [26,49,98,87,62,75]\n",
        "\n",
        "only_even = [num for num in list1 if num % 2 == 0 ]\n",
        "res = sum(only_even)\n",
        "\n",
        "print (\"The Even numbers are: \",only_even)\n",
        "print (\"The sum of all Even numbers is: \",res)"
      ]
    }
  ]
}